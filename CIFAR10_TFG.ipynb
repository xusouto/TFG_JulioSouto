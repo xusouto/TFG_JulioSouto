{
  "nbformat": 4,
  "nbformat_minor": 0,
  "metadata": {
    "colab": {
      "provenance": [],
      "gpuType": "T4"
    },
    "kernelspec": {
      "name": "python3",
      "display_name": "Python 3"
    },
    "language_info": {
      "name": "python"
    },
    "accelerator": "GPU",
    "widgets": {
      "application/vnd.jupyter.widget-state+json": {
        "ca28ad62e02545e08de27ac4c6a833fd": {
          "model_module": "@jupyter-widgets/controls",
          "model_name": "HBoxModel",
          "model_module_version": "1.5.0",
          "state": {
            "_dom_classes": [],
            "_model_module": "@jupyter-widgets/controls",
            "_model_module_version": "1.5.0",
            "_model_name": "HBoxModel",
            "_view_count": null,
            "_view_module": "@jupyter-widgets/controls",
            "_view_module_version": "1.5.0",
            "_view_name": "HBoxView",
            "box_style": "",
            "children": [
              "IPY_MODEL_31269e3fae4640958071f054a4f941c7",
              "IPY_MODEL_caa79de57c094b5c882f5d7ca5ea6812",
              "IPY_MODEL_21200f05802b4571a07fc1cc405143b7"
            ],
            "layout": "IPY_MODEL_4c3cf2ccaf3e4abd9f7d69906f2d128c"
          }
        },
        "31269e3fae4640958071f054a4f941c7": {
          "model_module": "@jupyter-widgets/controls",
          "model_name": "HTMLModel",
          "model_module_version": "1.5.0",
          "state": {
            "_dom_classes": [],
            "_model_module": "@jupyter-widgets/controls",
            "_model_module_version": "1.5.0",
            "_model_name": "HTMLModel",
            "_view_count": null,
            "_view_module": "@jupyter-widgets/controls",
            "_view_module_version": "1.5.0",
            "_view_name": "HTMLView",
            "description": "",
            "description_tooltip": null,
            "layout": "IPY_MODEL_51c875eb2c084e60a9c59aaa9843f794",
            "placeholder": "​",
            "style": "IPY_MODEL_b569fea56350475b8117472d8420d852",
            "value": "100%"
          }
        },
        "caa79de57c094b5c882f5d7ca5ea6812": {
          "model_module": "@jupyter-widgets/controls",
          "model_name": "FloatProgressModel",
          "model_module_version": "1.5.0",
          "state": {
            "_dom_classes": [],
            "_model_module": "@jupyter-widgets/controls",
            "_model_module_version": "1.5.0",
            "_model_name": "FloatProgressModel",
            "_view_count": null,
            "_view_module": "@jupyter-widgets/controls",
            "_view_module_version": "1.5.0",
            "_view_name": "ProgressView",
            "bar_style": "success",
            "description": "",
            "description_tooltip": null,
            "layout": "IPY_MODEL_dfbade5d4add4a8bbf0e235a5bd06fc4",
            "max": 100,
            "min": 0,
            "orientation": "horizontal",
            "style": "IPY_MODEL_615969a0fa544de89b743e5cb7a8efed",
            "value": 100
          }
        },
        "21200f05802b4571a07fc1cc405143b7": {
          "model_module": "@jupyter-widgets/controls",
          "model_name": "HTMLModel",
          "model_module_version": "1.5.0",
          "state": {
            "_dom_classes": [],
            "_model_module": "@jupyter-widgets/controls",
            "_model_module_version": "1.5.0",
            "_model_name": "HTMLModel",
            "_view_count": null,
            "_view_module": "@jupyter-widgets/controls",
            "_view_module_version": "1.5.0",
            "_view_name": "HTMLView",
            "description": "",
            "description_tooltip": null,
            "layout": "IPY_MODEL_7b56e8072798453e8a6d627af762ae3d",
            "placeholder": "​",
            "style": "IPY_MODEL_3c738846122d44868669621de6370445",
            "value": " 100/100 [2:46:26&lt;00:00, 99.43s/it]"
          }
        },
        "4c3cf2ccaf3e4abd9f7d69906f2d128c": {
          "model_module": "@jupyter-widgets/base",
          "model_name": "LayoutModel",
          "model_module_version": "1.2.0",
          "state": {
            "_model_module": "@jupyter-widgets/base",
            "_model_module_version": "1.2.0",
            "_model_name": "LayoutModel",
            "_view_count": null,
            "_view_module": "@jupyter-widgets/base",
            "_view_module_version": "1.2.0",
            "_view_name": "LayoutView",
            "align_content": null,
            "align_items": null,
            "align_self": null,
            "border": null,
            "bottom": null,
            "display": null,
            "flex": null,
            "flex_flow": null,
            "grid_area": null,
            "grid_auto_columns": null,
            "grid_auto_flow": null,
            "grid_auto_rows": null,
            "grid_column": null,
            "grid_gap": null,
            "grid_row": null,
            "grid_template_areas": null,
            "grid_template_columns": null,
            "grid_template_rows": null,
            "height": null,
            "justify_content": null,
            "justify_items": null,
            "left": null,
            "margin": null,
            "max_height": null,
            "max_width": null,
            "min_height": null,
            "min_width": null,
            "object_fit": null,
            "object_position": null,
            "order": null,
            "overflow": null,
            "overflow_x": null,
            "overflow_y": null,
            "padding": null,
            "right": null,
            "top": null,
            "visibility": null,
            "width": null
          }
        },
        "51c875eb2c084e60a9c59aaa9843f794": {
          "model_module": "@jupyter-widgets/base",
          "model_name": "LayoutModel",
          "model_module_version": "1.2.0",
          "state": {
            "_model_module": "@jupyter-widgets/base",
            "_model_module_version": "1.2.0",
            "_model_name": "LayoutModel",
            "_view_count": null,
            "_view_module": "@jupyter-widgets/base",
            "_view_module_version": "1.2.0",
            "_view_name": "LayoutView",
            "align_content": null,
            "align_items": null,
            "align_self": null,
            "border": null,
            "bottom": null,
            "display": null,
            "flex": null,
            "flex_flow": null,
            "grid_area": null,
            "grid_auto_columns": null,
            "grid_auto_flow": null,
            "grid_auto_rows": null,
            "grid_column": null,
            "grid_gap": null,
            "grid_row": null,
            "grid_template_areas": null,
            "grid_template_columns": null,
            "grid_template_rows": null,
            "height": null,
            "justify_content": null,
            "justify_items": null,
            "left": null,
            "margin": null,
            "max_height": null,
            "max_width": null,
            "min_height": null,
            "min_width": null,
            "object_fit": null,
            "object_position": null,
            "order": null,
            "overflow": null,
            "overflow_x": null,
            "overflow_y": null,
            "padding": null,
            "right": null,
            "top": null,
            "visibility": null,
            "width": null
          }
        },
        "b569fea56350475b8117472d8420d852": {
          "model_module": "@jupyter-widgets/controls",
          "model_name": "DescriptionStyleModel",
          "model_module_version": "1.5.0",
          "state": {
            "_model_module": "@jupyter-widgets/controls",
            "_model_module_version": "1.5.0",
            "_model_name": "DescriptionStyleModel",
            "_view_count": null,
            "_view_module": "@jupyter-widgets/base",
            "_view_module_version": "1.2.0",
            "_view_name": "StyleView",
            "description_width": ""
          }
        },
        "dfbade5d4add4a8bbf0e235a5bd06fc4": {
          "model_module": "@jupyter-widgets/base",
          "model_name": "LayoutModel",
          "model_module_version": "1.2.0",
          "state": {
            "_model_module": "@jupyter-widgets/base",
            "_model_module_version": "1.2.0",
            "_model_name": "LayoutModel",
            "_view_count": null,
            "_view_module": "@jupyter-widgets/base",
            "_view_module_version": "1.2.0",
            "_view_name": "LayoutView",
            "align_content": null,
            "align_items": null,
            "align_self": null,
            "border": null,
            "bottom": null,
            "display": null,
            "flex": null,
            "flex_flow": null,
            "grid_area": null,
            "grid_auto_columns": null,
            "grid_auto_flow": null,
            "grid_auto_rows": null,
            "grid_column": null,
            "grid_gap": null,
            "grid_row": null,
            "grid_template_areas": null,
            "grid_template_columns": null,
            "grid_template_rows": null,
            "height": null,
            "justify_content": null,
            "justify_items": null,
            "left": null,
            "margin": null,
            "max_height": null,
            "max_width": null,
            "min_height": null,
            "min_width": null,
            "object_fit": null,
            "object_position": null,
            "order": null,
            "overflow": null,
            "overflow_x": null,
            "overflow_y": null,
            "padding": null,
            "right": null,
            "top": null,
            "visibility": null,
            "width": null
          }
        },
        "615969a0fa544de89b743e5cb7a8efed": {
          "model_module": "@jupyter-widgets/controls",
          "model_name": "ProgressStyleModel",
          "model_module_version": "1.5.0",
          "state": {
            "_model_module": "@jupyter-widgets/controls",
            "_model_module_version": "1.5.0",
            "_model_name": "ProgressStyleModel",
            "_view_count": null,
            "_view_module": "@jupyter-widgets/base",
            "_view_module_version": "1.2.0",
            "_view_name": "StyleView",
            "bar_color": null,
            "description_width": ""
          }
        },
        "7b56e8072798453e8a6d627af762ae3d": {
          "model_module": "@jupyter-widgets/base",
          "model_name": "LayoutModel",
          "model_module_version": "1.2.0",
          "state": {
            "_model_module": "@jupyter-widgets/base",
            "_model_module_version": "1.2.0",
            "_model_name": "LayoutModel",
            "_view_count": null,
            "_view_module": "@jupyter-widgets/base",
            "_view_module_version": "1.2.0",
            "_view_name": "LayoutView",
            "align_content": null,
            "align_items": null,
            "align_self": null,
            "border": null,
            "bottom": null,
            "display": null,
            "flex": null,
            "flex_flow": null,
            "grid_area": null,
            "grid_auto_columns": null,
            "grid_auto_flow": null,
            "grid_auto_rows": null,
            "grid_column": null,
            "grid_gap": null,
            "grid_row": null,
            "grid_template_areas": null,
            "grid_template_columns": null,
            "grid_template_rows": null,
            "height": null,
            "justify_content": null,
            "justify_items": null,
            "left": null,
            "margin": null,
            "max_height": null,
            "max_width": null,
            "min_height": null,
            "min_width": null,
            "object_fit": null,
            "object_position": null,
            "order": null,
            "overflow": null,
            "overflow_x": null,
            "overflow_y": null,
            "padding": null,
            "right": null,
            "top": null,
            "visibility": null,
            "width": null
          }
        },
        "3c738846122d44868669621de6370445": {
          "model_module": "@jupyter-widgets/controls",
          "model_name": "DescriptionStyleModel",
          "model_module_version": "1.5.0",
          "state": {
            "_model_module": "@jupyter-widgets/controls",
            "_model_module_version": "1.5.0",
            "_model_name": "DescriptionStyleModel",
            "_view_count": null,
            "_view_module": "@jupyter-widgets/base",
            "_view_module_version": "1.2.0",
            "_view_name": "StyleView",
            "description_width": ""
          }
        }
      }
    }
  },
  "cells": [
    {
      "cell_type": "markdown",
      "source": [
        "**CNN CIFAR10**"
      ],
      "metadata": {
        "id": "AOg3UEhqO3O2"
      }
    },
    {
      "cell_type": "markdown",
      "source": [
        "Firstly, the necessary parckages are installed:"
      ],
      "metadata": {
        "id": "nst0GxbiO1mh"
      }
    },
    {
      "cell_type": "code",
      "execution_count": null,
      "metadata": {
        "id": "-QqDsfqS9e71"
      },
      "outputs": [],
      "source": [
        "import torch                                                            #Set up for PyTorch library\n",
        "import os\n",
        "import pathlib\n",
        "import torchvision                                                      #For managing PyTorch datasets\n",
        "import matplotlib.pyplot as plt\n",
        "import numpy as np\n",
        "import torch.nn.functional as F                                         #Necessary modules for model building, training and testing\n",
        "import torch.nn as nn\n",
        "import torch.optim as optim\n",
        "import copy\n",
        "\n",
        "from torch import nn\n",
        "from torchvision import datasets\n",
        "from torchvision import transforms\n",
        "from torchvision.transforms import ToTensor\n",
        "from torch.utils.data import DataLoader\n",
        "from torch.autograd import Variable"
      ]
    },
    {
      "cell_type": "markdown",
      "source": [
        "Agnostic code should be set up in order to maintain our variables and our computation in the same place:"
      ],
      "metadata": {
        "id": "CRF6Bu5vO-AG"
      }
    },
    {
      "cell_type": "code",
      "source": [
        "device='cuda'"
      ],
      "metadata": {
        "id": "BxRQ6tkf-Lmk"
      },
      "execution_count": null,
      "outputs": []
    },
    {
      "cell_type": "markdown",
      "source": [
        "In this case, we are using the dataset CIFAR10, provided by PyTorch. We proceed obtaining it and separating it into two sets: train and test. Afterwards, we organize the data into DataLoaders, which will allow us to divide our dataset in batches."
      ],
      "metadata": {
        "id": "U9SdT95TPBLX"
      }
    },
    {
      "cell_type": "code",
      "source": [
        "BATCH_SIZE = 64                                                                                        #Batch size selection\n",
        "NUM_WORKERS = os.cpu_count()                                                                           #Number of CPUs of our system\n",
        "\n",
        "#Gathering dataset\n",
        "train_data = datasets.CIFAR10(root= \"data\",                                                            #Call to PyTorch dataset, name of file whe data is located\n",
        "                              train= True,                                                             #Selection of train partition of dataset\n",
        "                              transform=torchvision.transforms.Compose([                               #Transformations used on data: perspective and flips\n",
        "                                  transforms.ToTensor(),\n",
        "                                  transforms.RandomPerspective(distortion_scale=0.5, p=0.5),\n",
        "                                  transforms.RandomHorizontalFlip(p=0.2),\n",
        "                                  ]),\n",
        "                              target_transform= None,\n",
        "                              download=True)\n",
        "test_data = datasets.CIFAR10(root=\"data\",                                                              #Call to PyTorch dataset, name of file whe data is located\n",
        "                             train= False,                                                             #Selection of test partition of dataset\n",
        "                             transform=torchvision.transforms.ToTensor(),                              #Transformations used on data\n",
        "                             target_transform= None,\n",
        "                             download=True)\n",
        "\n",
        "#DataLoaders\n",
        "train_dataloader = DataLoader(dataset=train_data,                                                      #Converting our train data into DataLoaders of given batch size\n",
        "                              batch_size=BATCH_SIZE,\n",
        "                              num_workers=NUM_WORKERS,\n",
        "                              shuffle=True)\n",
        "test_dataloader = DataLoader(dataset=test_data,                                                        #Converting our test data into DataLoaders of given batch size\n",
        "                             batch_size=BATCH_SIZE,\n",
        "                             num_workers=NUM_WORKERS,\n",
        "                             shuffle=False)\n",
        "train_dataloader,test_dataloader"
      ],
      "metadata": {
        "colab": {
          "base_uri": "https://localhost:8080/"
        },
        "id": "MwhvJPhO-N1y",
        "outputId": "20359ad1-26b3-4878-c4ac-f45d324e7c51"
      },
      "execution_count": null,
      "outputs": [
        {
          "output_type": "stream",
          "name": "stdout",
          "text": [
            "Downloading https://www.cs.toronto.edu/~kriz/cifar-10-python.tar.gz to data/cifar-10-python.tar.gz\n"
          ]
        },
        {
          "output_type": "stream",
          "name": "stderr",
          "text": [
            "100%|██████████| 170498071/170498071 [00:02<00:00, 57452624.14it/s]\n"
          ]
        },
        {
          "output_type": "stream",
          "name": "stdout",
          "text": [
            "Extracting data/cifar-10-python.tar.gz to data\n",
            "Files already downloaded and verified\n"
          ]
        },
        {
          "output_type": "execute_result",
          "data": {
            "text/plain": [
              "(<torch.utils.data.dataloader.DataLoader at 0x7af709e20a90>,\n",
              " <torch.utils.data.dataloader.DataLoader at 0x7af617fc9c30>)"
            ]
          },
          "metadata": {},
          "execution_count": 3
        }
      ]
    },
    {
      "cell_type": "markdown",
      "source": [
        "Once the data is organized, we continue by constructing our model. It is helpful to create a neural network that is specialized to our dataset, thus after testing different structures the following has given better results accuracy-wise:"
      ],
      "metadata": {
        "id": "r_JjvgYtP6ts"
      }
    },
    {
      "cell_type": "code",
      "source": [
        "class RF(nn.Module):                                                            #Define model class, torch.nn module\n",
        "    def __init__(self,                                                          #Class constructor\n",
        "                 input_shape: int,                                              #Input shape corresponds to color channels: 1 if BW, 3 if RGB\n",
        "                 hidden_units: int,                                             #Number of neurons per layer: we have opted for equal number of neurons along CNN\n",
        "                 output_shape: int):                                            #Output shape corresponds to number of labels\n",
        "        super().__init__()                                                      #Initiallize parent class\n",
        "        #Convolutional layers\n",
        "        self.conv_block_1 = nn.Sequential(                                      #For each convolutional layer there are 2 convolutions,\n",
        "            nn.Conv2d(in_channels=input_shape,                                  #each with Batch Normalization and a ReLU activation\n",
        "                      out_channels=hidden_units,                                #function after.\n",
        "                      kernel_size=3,                                            #Kernel size: Pixel area portion\n",
        "                      stride=1,                                                 #Stride: Measure of pixel distance between kernels when convoluting\n",
        "                      padding=64),                                              #Padding: Blank pixels added outside of image to control size\n",
        "            nn.BatchNorm2d(hidden_units,\n",
        "                       affine=False),\n",
        "            nn.ReLU(),\n",
        "            nn.Conv2d(in_channels=hidden_units,\n",
        "                      out_channels=hidden_units,\n",
        "                      kernel_size=3,\n",
        "                      stride=1,\n",
        "                      padding=0),\n",
        "            nn.BatchNorm2d(hidden_units,\n",
        "                       affine=False),\n",
        "            nn.ReLU(),\n",
        "            nn.MaxPool2d(kernel_size=2,                                         #After each convolutional layer we conduct MaxPooling\n",
        "                     stride=2)\n",
        "        )\n",
        "        self.conv_block_2 = nn.Sequential(\n",
        "            nn.Conv2d(in_channels=hidden_units,\n",
        "                      out_channels=hidden_units,\n",
        "                      kernel_size=3,\n",
        "                      stride=1,\n",
        "                      padding=0),\n",
        "            nn.BatchNorm2d(hidden_units,\n",
        "                       affine=False),\n",
        "            nn.ReLU(),\n",
        "            nn.Conv2d(in_channels=hidden_units,\n",
        "                      out_channels=hidden_units,\n",
        "                      kernel_size=3,\n",
        "                      stride=1,\n",
        "                      padding=0),\n",
        "            nn.BatchNorm2d(hidden_units,\n",
        "                       affine=False),\n",
        "            nn.ReLU(),\n",
        "            nn.MaxPool2d(kernel_size=2,\n",
        "                     stride=2)\n",
        "        )\n",
        "        self.conv_block_3 = nn.Sequential(\n",
        "            nn.Conv2d(in_channels=hidden_units,\n",
        "                      out_channels=hidden_units,\n",
        "                      kernel_size=3,\n",
        "                      stride=1,\n",
        "                      padding=16),\n",
        "            nn.BatchNorm2d(hidden_units,\n",
        "                       affine=False),\n",
        "            nn.ReLU(),\n",
        "            nn.Conv2d(in_channels=hidden_units,\n",
        "                      out_channels=hidden_units,\n",
        "                      kernel_size=3,\n",
        "                      stride=1,\n",
        "                      padding=0),\n",
        "            nn.BatchNorm2d(hidden_units,\n",
        "                       affine=False),\n",
        "            nn.ReLU(),\n",
        "            nn.MaxPool2d(kernel_size=2,\n",
        "                     stride=2)\n",
        "        )\n",
        "        self.conv_block_4 = nn.Sequential(\n",
        "            nn.Conv2d(in_channels=hidden_units,\n",
        "                      out_channels=hidden_units,\n",
        "                      kernel_size=3,\n",
        "                      stride=1,\n",
        "                      padding=0),\n",
        "            nn.BatchNorm2d(hidden_units,\n",
        "                       affine=False),\n",
        "            nn.ReLU(),\n",
        "            nn.Conv2d(in_channels=hidden_units,\n",
        "                      out_channels=hidden_units,\n",
        "                      kernel_size=3,\n",
        "                      stride=1,\n",
        "                      padding=0),\n",
        "            nn.BatchNorm2d(hidden_units,\n",
        "                       affine=False),\n",
        "            nn.ReLU(),\n",
        "            nn.MaxPool2d(kernel_size=2,\n",
        "                     stride=2)\n",
        "        )\n",
        "        self.conv_block_5 = nn.Sequential(\n",
        "            nn.Conv2d(in_channels=hidden_units,\n",
        "                      out_channels=hidden_units,\n",
        "                      kernel_size=3,\n",
        "                      stride=1,\n",
        "                      padding=0),\n",
        "            nn.BatchNorm2d(hidden_units,\n",
        "                       affine=False),\n",
        "            nn.ReLU(),\n",
        "            nn.Conv2d(in_channels=hidden_units,\n",
        "                      out_channels=hidden_units,\n",
        "                      kernel_size=3,\n",
        "                      stride=1,\n",
        "                      padding=0),\n",
        "            nn.BatchNorm2d(hidden_units,\n",
        "                       affine=False),\n",
        "            nn.ReLU(),\n",
        "            nn.MaxPool2d(kernel_size=2,\n",
        "                     stride=2)\n",
        "        )\n",
        "        #Fully-connected layer\n",
        "        self.classifier = nn.Sequential(                                        #After convolution layers, we add a fully connected linear layer\n",
        "            nn.Flatten(),                                                       #Eliminate dimensionality\n",
        "            nn.Linear(in_features=hidden_units*25,                              #Depending on resulting image size and number of concolutional layers and their parameters\n",
        "                      out_features=output_shape)                                #it is necessary to adjust sizes manually\n",
        "        )\n",
        "    def forward(self, x):\n",
        "      return self.classifier(self.conv_block_5(self.conv_block_4(self.conv_block_3(self.conv_block_2(self.conv_block_1(x))))))"
      ],
      "metadata": {
        "id": "M3ZVidiE-Oif"
      },
      "execution_count": null,
      "outputs": []
    },
    {
      "cell_type": "markdown",
      "source": [
        "As the convolutional model has been defined, we will now rely on PyTorch modules to define our train and test functions:"
      ],
      "metadata": {
        "id": "dXkmgUbNQAVI"
      }
    },
    {
      "cell_type": "code",
      "source": [
        "#Train step for iteration during train phase\n",
        "def train_step(model: torch.nn.Module,                               #Call model\n",
        "               dataloader: torch.utils.data.DataLoader,              #Call DataLoader\n",
        "               loss_fn: torch.nn.Module,                             #Call loss function\n",
        "               optimizer:torch.optim.Optimizer,                      #Call optimizer function\n",
        "               device=device):                                       #Select device\n",
        "  #We set out model into training mode\n",
        "  model.train()\n",
        "  train_loss, train_acc = 0, 0                                       #The train loss and accuracy counts are initiallized\n",
        "  # Loop over batches of DataLoader\n",
        "  for batch, (X, y) in enumerate(dataloader):\n",
        "    X, y = X.to(device), y.to(device)                                #Send our data to designated device\n",
        "    y_pred = model(X)                                                #Our model predict an outcome based on the input, outputs are logits.\n",
        "    loss = loss_fn(y_pred, y)                                        #With the previous outdome we compute the losses with loss fucntion\n",
        "    train_loss += loss.item()                                        #We add to the train loss count\n",
        "    optimizer.zero_grad()                                            #A reset of the gradients is carried out to avoid accumulation from step to step\n",
        "    loss.backward()                                                  #Computes gradient of tensor\n",
        "    optimizer.step()                                                 #Updates parameters to optimize model\n",
        "    # Calcualtion of accuracy parting from obtained logits\n",
        "    y_pred_class = torch.argmax(torch.softmax(y_pred, dim=1), dim=1)\n",
        "    train_acc += (y_pred_class==y).sum().item()/len(y_pred)          #Addition to train accuracy list\n",
        "  #Batch average\n",
        "  best_accuracy = 0\n",
        "  train_loss = train_loss / len(dataloader)\n",
        "  train_acc = train_acc / len(dataloader)\n",
        "  if train_acc> best_accuracy:                                       #Step to save model if accuracy has been incresed with respect to last step\n",
        "      print('Saving model...')\n",
        "      torch.save(model.state_dict(), 'modelo_entrenado.pt')\n",
        "      best_accuracy = train_acc\n",
        "  return train_loss, train_acc\n",
        "\n",
        "\n",
        "#Test step for iteration during inference\n",
        "def test_step(model:torch.nn.Module,                                 #Call model\n",
        "              dataloader: torch.utils.data.DataLoader,               #Call DataLoader\n",
        "              loss_fn: torch.nn.Module,                              #Call loss function, no optimization is done during inference\n",
        "              device):                                               #Select device\n",
        "\n",
        "  #Set model into evaulatio mode\n",
        "  model.eval()\n",
        "  test_loss, test_acc = 0,  0                                        #The train loss and accuracy counts are initiallized\n",
        "  with torch.inference_mode():                                       #Using the module's inference mode we test the model\n",
        "    # Loop over batches of DataLoader\n",
        "    for batch, (X, y) in enumerate(dataloader):\n",
        "      a,b = X.to(device), y.to(device)                               #Send our data to designated device\n",
        "      test_pred_logits = model(a)\n",
        "      loss = loss_fn(test_pred_logits, b)                            #Loss calculation using predicted logits\n",
        "      test_loss += loss.item()\n",
        "      test_pred_labels = test_pred_logits.argmax(dim=1)                           #Obtaning labels from predictions\n",
        "      test_acc += ((test_pred_labels == b).sum().item()/len(test_pred_labels))    #Comparison of labels with data and addition to accuracy count\n",
        "  test_loss = test_loss / len(dataloader)\n",
        "  test_acc = test_acc / len(dataloader)\n",
        "  return test_loss, test_acc"
      ],
      "metadata": {
        "id": "oe0-AeZ8-R0g"
      },
      "execution_count": null,
      "outputs": []
    },
    {
      "cell_type": "markdown",
      "source": [
        "\n",
        "In order to train our model and evaluate its accuracy on the test set, it is necessary to write a loop function that combines the previous two:"
      ],
      "metadata": {
        "id": "WNLA5ezQQOGp"
      }
    },
    {
      "cell_type": "code",
      "source": [
        "#Training loop\n",
        "from tqdm.auto import tqdm                                           #Displays visual loading bar\n",
        "\n",
        "def train(model: torch.nn.Module,\n",
        "          train_dataloader,\n",
        "          test_dataloader,\n",
        "          optimizer,\n",
        "          loss_fn: torch.nn.Module = nn.CrossEntropyLoss(),\n",
        "          epochs: int=5,                                             #Amount of epochs of training\n",
        "          device=device):\n",
        "\n",
        "  results = {\"train_loss\": [],                                       #Count initiation\n",
        "             \"train_acc\": [],\n",
        "             \"test_loss\": [],\n",
        "             \"test_acc\": []}\n",
        "\n",
        "  for epoch in tqdm(range(epochs)):                                  #Loop over epochs\n",
        "    train_loss, train_acc = train_step(model=model,                  #Call to train step\n",
        "                                       dataloader=train_dataloader,\n",
        "                                       loss_fn=loss_fn,\n",
        "                                       optimizer=optimizer,\n",
        "                                       device=device)\n",
        "    test_loss, test_acc = test_step(model=model,                     #Call to test step\n",
        "                                    dataloader=test_dataloader,\n",
        "                                    loss_fn=loss_fn,\n",
        "                                    device=device)\n",
        "\n",
        "    #Display results\n",
        "    print(f\"Epoch: {epoch} | Train loss: {train_loss:.4f} | Train acc: {train_acc:.4f} | Test loss: {test_loss:.4f} | Test acc: {test_acc:.4f}\")\n",
        "\n",
        "    results[\"train_loss\"].append(train_loss)                         #Addition of new values to lists\n",
        "    results[\"train_acc\"].append(train_acc)\n",
        "    results[\"test_loss\"].append(test_loss)\n",
        "    results[\"test_acc\"].append(test_acc)\n",
        "\n",
        "  return results"
      ],
      "metadata": {
        "id": "-gV_OZaZ-TmV"
      },
      "execution_count": null,
      "outputs": []
    },
    {
      "cell_type": "markdown",
      "source": [
        "We procceed with the training of our model:"
      ],
      "metadata": {
        "id": "ETh37iagQks4"
      }
    },
    {
      "cell_type": "code",
      "source": [
        "NUM_EPOCHS = 100                                                         #Write number of traing epochs\n",
        "model_0 = RF(input_shape=3,                                              #Call to model and shape parameters\n",
        "             hidden_units=25,\n",
        "             output_shape=10).to(device)\n",
        "\n",
        "\n",
        "loss_fn = nn.CrossEntropyLoss()                                          #Loss function\n",
        "optimizer = torch.optim.Adam(params=model_0.parameters(),                #Optimizer function\n",
        "                             lr=0.001)\n",
        "\n",
        "from timeit import default_timer as timer                                #Timer\n",
        "start_time = timer()\n",
        "\n",
        "# Train model_0\n",
        "\n",
        "model_0_results = train(model=model_0,                                   #Entrenamiento\n",
        "                        train_dataloader=train_dataloader,\n",
        "                        test_dataloader=test_dataloader,\n",
        "                        optimizer=optimizer,\n",
        "                        loss_fn=loss_fn,\n",
        "                        epochs=NUM_EPOCHS)\n",
        "\n",
        "end_time = timer()\n",
        "print(f\"Total training time: {end_time-start_time:.3f} seconds\")"
      ],
      "metadata": {
        "colab": {
          "base_uri": "https://localhost:8080/",
          "height": 1000,
          "referenced_widgets": [
            "ca28ad62e02545e08de27ac4c6a833fd",
            "31269e3fae4640958071f054a4f941c7",
            "caa79de57c094b5c882f5d7ca5ea6812",
            "21200f05802b4571a07fc1cc405143b7",
            "4c3cf2ccaf3e4abd9f7d69906f2d128c",
            "51c875eb2c084e60a9c59aaa9843f794",
            "b569fea56350475b8117472d8420d852",
            "dfbade5d4add4a8bbf0e235a5bd06fc4",
            "615969a0fa544de89b743e5cb7a8efed",
            "7b56e8072798453e8a6d627af762ae3d",
            "3c738846122d44868669621de6370445"
          ]
        },
        "id": "OtWgY9Ys-V0Q",
        "outputId": "26f05ac7-d3f3-4531-8d85-f20976d194b8"
      },
      "execution_count": null,
      "outputs": [
        {
          "output_type": "display_data",
          "data": {
            "text/plain": [
              "  0%|          | 0/100 [00:00<?, ?it/s]"
            ],
            "application/vnd.jupyter.widget-view+json": {
              "version_major": 2,
              "version_minor": 0,
              "model_id": "ca28ad62e02545e08de27ac4c6a833fd"
            }
          },
          "metadata": {}
        },
        {
          "output_type": "stream",
          "name": "stdout",
          "text": [
            "Saving model...\n",
            "Epoch: 0 | Train loss: 1.7390 | Train acc: 0.3544 | Test loss: 1.7417 | Test acc: 0.3833\n",
            "Saving model...\n",
            "Epoch: 1 | Train loss: 1.3750 | Train acc: 0.4921 | Test loss: 1.4921 | Test acc: 0.4870\n",
            "Saving model...\n",
            "Epoch: 2 | Train loss: 1.2253 | Train acc: 0.5548 | Test loss: 1.8721 | Test acc: 0.4257\n",
            "Saving model...\n",
            "Epoch: 3 | Train loss: 1.1357 | Train acc: 0.5887 | Test loss: 1.0134 | Test acc: 0.6389\n",
            "Saving model...\n",
            "Epoch: 4 | Train loss: 1.0737 | Train acc: 0.6131 | Test loss: 1.0245 | Test acc: 0.6368\n",
            "Saving model...\n",
            "Epoch: 5 | Train loss: 1.0300 | Train acc: 0.6287 | Test loss: 2.1092 | Test acc: 0.4057\n",
            "Saving model...\n",
            "Epoch: 6 | Train loss: 0.9963 | Train acc: 0.6450 | Test loss: 1.3649 | Test acc: 0.5511\n",
            "Saving model...\n",
            "Epoch: 7 | Train loss: 0.9608 | Train acc: 0.6566 | Test loss: 1.0077 | Test acc: 0.6430\n",
            "Saving model...\n",
            "Epoch: 8 | Train loss: 0.9322 | Train acc: 0.6682 | Test loss: 0.8674 | Test acc: 0.6945\n",
            "Saving model...\n",
            "Epoch: 9 | Train loss: 0.9036 | Train acc: 0.6780 | Test loss: 0.9141 | Test acc: 0.6742\n",
            "Saving model...\n",
            "Epoch: 10 | Train loss: 0.8821 | Train acc: 0.6877 | Test loss: 3.0169 | Test acc: 0.3453\n",
            "Saving model...\n",
            "Epoch: 11 | Train loss: 0.8593 | Train acc: 0.6952 | Test loss: 2.2035 | Test acc: 0.4255\n",
            "Saving model...\n",
            "Epoch: 12 | Train loss: 0.8458 | Train acc: 0.7004 | Test loss: 0.9033 | Test acc: 0.6884\n",
            "Saving model...\n",
            "Epoch: 13 | Train loss: 0.8276 | Train acc: 0.7060 | Test loss: 1.4395 | Test acc: 0.5720\n",
            "Saving model...\n",
            "Epoch: 14 | Train loss: 0.8105 | Train acc: 0.7131 | Test loss: 2.2492 | Test acc: 0.4602\n",
            "Saving model...\n",
            "Epoch: 15 | Train loss: 0.8025 | Train acc: 0.7179 | Test loss: 0.9456 | Test acc: 0.6813\n",
            "Saving model...\n",
            "Epoch: 16 | Train loss: 0.7867 | Train acc: 0.7214 | Test loss: 1.4468 | Test acc: 0.5833\n",
            "Saving model...\n",
            "Epoch: 17 | Train loss: 0.7754 | Train acc: 0.7255 | Test loss: 1.2105 | Test acc: 0.6206\n",
            "Saving model...\n",
            "Epoch: 18 | Train loss: 0.7615 | Train acc: 0.7324 | Test loss: 1.9149 | Test acc: 0.5081\n",
            "Saving model...\n",
            "Epoch: 19 | Train loss: 0.7534 | Train acc: 0.7341 | Test loss: 1.4621 | Test acc: 0.5773\n",
            "Saving model...\n",
            "Epoch: 20 | Train loss: 0.7506 | Train acc: 0.7379 | Test loss: 1.7854 | Test acc: 0.5317\n",
            "Saving model...\n",
            "Epoch: 21 | Train loss: 0.7377 | Train acc: 0.7400 | Test loss: 0.7650 | Test acc: 0.7312\n",
            "Saving model...\n",
            "Epoch: 22 | Train loss: 0.7262 | Train acc: 0.7459 | Test loss: 1.0419 | Test acc: 0.6519\n",
            "Saving model...\n",
            "Epoch: 23 | Train loss: 0.7201 | Train acc: 0.7469 | Test loss: 1.8697 | Test acc: 0.5188\n",
            "Saving model...\n",
            "Epoch: 24 | Train loss: 0.7168 | Train acc: 0.7469 | Test loss: 0.6838 | Test acc: 0.7623\n",
            "Saving model...\n",
            "Epoch: 25 | Train loss: 0.7023 | Train acc: 0.7530 | Test loss: 1.9960 | Test acc: 0.4806\n",
            "Saving model...\n",
            "Epoch: 26 | Train loss: 0.7000 | Train acc: 0.7555 | Test loss: 0.9232 | Test acc: 0.6919\n",
            "Saving model...\n",
            "Epoch: 27 | Train loss: 0.6937 | Train acc: 0.7577 | Test loss: 0.7008 | Test acc: 0.7597\n",
            "Saving model...\n",
            "Epoch: 28 | Train loss: 0.6881 | Train acc: 0.7576 | Test loss: 1.3005 | Test acc: 0.6267\n",
            "Saving model...\n",
            "Epoch: 29 | Train loss: 0.6792 | Train acc: 0.7603 | Test loss: 2.7055 | Test acc: 0.4464\n",
            "Saving model...\n",
            "Epoch: 30 | Train loss: 0.6754 | Train acc: 0.7638 | Test loss: 2.2877 | Test acc: 0.4460\n",
            "Saving model...\n",
            "Epoch: 31 | Train loss: 0.6736 | Train acc: 0.7633 | Test loss: 0.8657 | Test acc: 0.7184\n",
            "Saving model...\n",
            "Epoch: 32 | Train loss: 0.6666 | Train acc: 0.7664 | Test loss: 0.6800 | Test acc: 0.7686\n",
            "Saving model...\n",
            "Epoch: 33 | Train loss: 0.6592 | Train acc: 0.7705 | Test loss: 0.8727 | Test acc: 0.7116\n",
            "Saving model...\n",
            "Epoch: 34 | Train loss: 0.6535 | Train acc: 0.7708 | Test loss: 0.6166 | Test acc: 0.7864\n",
            "Saving model...\n",
            "Epoch: 35 | Train loss: 0.6483 | Train acc: 0.7726 | Test loss: 0.7627 | Test acc: 0.7479\n",
            "Saving model...\n",
            "Epoch: 36 | Train loss: 0.6466 | Train acc: 0.7720 | Test loss: 0.6537 | Test acc: 0.7772\n",
            "Saving model...\n",
            "Epoch: 37 | Train loss: 0.6457 | Train acc: 0.7743 | Test loss: 0.8315 | Test acc: 0.7386\n",
            "Saving model...\n",
            "Epoch: 38 | Train loss: 0.6408 | Train acc: 0.7751 | Test loss: 1.4259 | Test acc: 0.5849\n",
            "Saving model...\n",
            "Epoch: 39 | Train loss: 0.6364 | Train acc: 0.7760 | Test loss: 1.7408 | Test acc: 0.5508\n",
            "Saving model...\n",
            "Epoch: 40 | Train loss: 0.6314 | Train acc: 0.7776 | Test loss: 1.7385 | Test acc: 0.5629\n",
            "Saving model...\n",
            "Epoch: 41 | Train loss: 0.6248 | Train acc: 0.7800 | Test loss: 0.5937 | Test acc: 0.7899\n",
            "Saving model...\n",
            "Epoch: 42 | Train loss: 0.6244 | Train acc: 0.7814 | Test loss: 1.3055 | Test acc: 0.6098\n",
            "Saving model...\n",
            "Epoch: 43 | Train loss: 0.6194 | Train acc: 0.7830 | Test loss: 1.6822 | Test acc: 0.5795\n",
            "Saving model...\n",
            "Epoch: 44 | Train loss: 0.6192 | Train acc: 0.7817 | Test loss: 2.2941 | Test acc: 0.4594\n",
            "Saving model...\n",
            "Epoch: 45 | Train loss: 0.6144 | Train acc: 0.7851 | Test loss: 0.7258 | Test acc: 0.7579\n",
            "Saving model...\n",
            "Epoch: 46 | Train loss: 0.6050 | Train acc: 0.7886 | Test loss: 1.3754 | Test acc: 0.6216\n",
            "Saving model...\n",
            "Epoch: 47 | Train loss: 0.6056 | Train acc: 0.7874 | Test loss: 1.1905 | Test acc: 0.6618\n",
            "Saving model...\n",
            "Epoch: 48 | Train loss: 0.6010 | Train acc: 0.7909 | Test loss: 0.6489 | Test acc: 0.7813\n",
            "Saving model...\n",
            "Epoch: 49 | Train loss: 0.5980 | Train acc: 0.7915 | Test loss: 0.6660 | Test acc: 0.7710\n",
            "Saving model...\n",
            "Epoch: 50 | Train loss: 0.5956 | Train acc: 0.7917 | Test loss: 0.7479 | Test acc: 0.7510\n",
            "Saving model...\n",
            "Epoch: 51 | Train loss: 0.5915 | Train acc: 0.7921 | Test loss: 0.6897 | Test acc: 0.7675\n",
            "Saving model...\n",
            "Epoch: 52 | Train loss: 0.5897 | Train acc: 0.7937 | Test loss: 2.7269 | Test acc: 0.4257\n",
            "Saving model...\n",
            "Epoch: 53 | Train loss: 0.5808 | Train acc: 0.7960 | Test loss: 1.2888 | Test acc: 0.6430\n",
            "Saving model...\n",
            "Epoch: 54 | Train loss: 0.5833 | Train acc: 0.7953 | Test loss: 0.6072 | Test acc: 0.7904\n",
            "Saving model...\n",
            "Epoch: 55 | Train loss: 0.5767 | Train acc: 0.7986 | Test loss: 2.2035 | Test acc: 0.5222\n",
            "Saving model...\n",
            "Epoch: 56 | Train loss: 0.5772 | Train acc: 0.7971 | Test loss: 0.6171 | Test acc: 0.7965\n",
            "Saving model...\n",
            "Epoch: 57 | Train loss: 0.5715 | Train acc: 0.8010 | Test loss: 5.5857 | Test acc: 0.2373\n",
            "Saving model...\n",
            "Epoch: 58 | Train loss: 0.5811 | Train acc: 0.7953 | Test loss: 0.6406 | Test acc: 0.7800\n",
            "Saving model...\n",
            "Epoch: 59 | Train loss: 0.5697 | Train acc: 0.8000 | Test loss: 1.2835 | Test acc: 0.6689\n",
            "Saving model...\n",
            "Epoch: 60 | Train loss: 0.5696 | Train acc: 0.8018 | Test loss: 1.1197 | Test acc: 0.6774\n",
            "Saving model...\n",
            "Epoch: 61 | Train loss: 0.5636 | Train acc: 0.8029 | Test loss: 0.9662 | Test acc: 0.7092\n",
            "Saving model...\n",
            "Epoch: 62 | Train loss: 0.5660 | Train acc: 0.8021 | Test loss: 1.0193 | Test acc: 0.7054\n",
            "Saving model...\n",
            "Epoch: 63 | Train loss: 0.5648 | Train acc: 0.8018 | Test loss: 0.8290 | Test acc: 0.7370\n",
            "Saving model...\n",
            "Epoch: 64 | Train loss: 0.5601 | Train acc: 0.8031 | Test loss: 0.7097 | Test acc: 0.7702\n",
            "Saving model...\n",
            "Epoch: 65 | Train loss: 0.5593 | Train acc: 0.8055 | Test loss: 0.6809 | Test acc: 0.7757\n",
            "Saving model...\n",
            "Epoch: 66 | Train loss: 0.5576 | Train acc: 0.8045 | Test loss: 0.9850 | Test acc: 0.6996\n",
            "Saving model...\n",
            "Epoch: 67 | Train loss: 0.5508 | Train acc: 0.8083 | Test loss: 0.8391 | Test acc: 0.7358\n",
            "Saving model...\n",
            "Epoch: 68 | Train loss: 0.5571 | Train acc: 0.8042 | Test loss: 0.6380 | Test acc: 0.7866\n",
            "Saving model...\n",
            "Epoch: 69 | Train loss: 0.5534 | Train acc: 0.8063 | Test loss: 0.7954 | Test acc: 0.7440\n",
            "Saving model...\n",
            "Epoch: 70 | Train loss: 0.5399 | Train acc: 0.8096 | Test loss: 0.5897 | Test acc: 0.8017\n",
            "Saving model...\n",
            "Epoch: 71 | Train loss: 0.5481 | Train acc: 0.8094 | Test loss: 0.5959 | Test acc: 0.8029\n",
            "Saving model...\n",
            "Epoch: 72 | Train loss: 0.5435 | Train acc: 0.8113 | Test loss: 0.6470 | Test acc: 0.7831\n",
            "Saving model...\n",
            "Epoch: 73 | Train loss: 0.5426 | Train acc: 0.8107 | Test loss: 1.4164 | Test acc: 0.6361\n",
            "Saving model...\n",
            "Epoch: 74 | Train loss: 0.5439 | Train acc: 0.8109 | Test loss: 1.0617 | Test acc: 0.6951\n",
            "Saving model...\n",
            "Epoch: 75 | Train loss: 0.5384 | Train acc: 0.8109 | Test loss: 1.1531 | Test acc: 0.6779\n",
            "Saving model...\n",
            "Epoch: 76 | Train loss: 0.5426 | Train acc: 0.8102 | Test loss: 0.7907 | Test acc: 0.7511\n",
            "Saving model...\n",
            "Epoch: 77 | Train loss: 0.5340 | Train acc: 0.8122 | Test loss: 1.0596 | Test acc: 0.6957\n",
            "Saving model...\n",
            "Epoch: 78 | Train loss: 0.5303 | Train acc: 0.8140 | Test loss: 0.6381 | Test acc: 0.7937\n",
            "Saving model...\n",
            "Epoch: 79 | Train loss: 0.5318 | Train acc: 0.8152 | Test loss: 0.6550 | Test acc: 0.7872\n",
            "Saving model...\n",
            "Epoch: 80 | Train loss: 0.5311 | Train acc: 0.8160 | Test loss: 0.8184 | Test acc: 0.7457\n",
            "Saving model...\n",
            "Epoch: 81 | Train loss: 0.5230 | Train acc: 0.8160 | Test loss: 0.6487 | Test acc: 0.7920\n",
            "Saving model...\n",
            "Epoch: 82 | Train loss: 0.5282 | Train acc: 0.8143 | Test loss: 0.6168 | Test acc: 0.7964\n",
            "Saving model...\n",
            "Epoch: 83 | Train loss: 0.5237 | Train acc: 0.8165 | Test loss: 0.6281 | Test acc: 0.7903\n",
            "Saving model...\n",
            "Epoch: 84 | Train loss: 0.5225 | Train acc: 0.8185 | Test loss: 2.0358 | Test acc: 0.5589\n",
            "Saving model...\n",
            "Epoch: 85 | Train loss: 0.5255 | Train acc: 0.8161 | Test loss: 0.5892 | Test acc: 0.8034\n",
            "Saving model...\n",
            "Epoch: 86 | Train loss: 0.5283 | Train acc: 0.8152 | Test loss: 0.8546 | Test acc: 0.7340\n",
            "Saving model...\n",
            "Epoch: 87 | Train loss: 0.5163 | Train acc: 0.8175 | Test loss: 0.6849 | Test acc: 0.7827\n",
            "Saving model...\n",
            "Epoch: 88 | Train loss: 0.5115 | Train acc: 0.8214 | Test loss: 0.6539 | Test acc: 0.7886\n",
            "Saving model...\n",
            "Epoch: 89 | Train loss: 0.5208 | Train acc: 0.8164 | Test loss: 0.5880 | Test acc: 0.8060\n",
            "Saving model...\n",
            "Epoch: 90 | Train loss: 0.5169 | Train acc: 0.8183 | Test loss: 0.5786 | Test acc: 0.8138\n",
            "Saving model...\n",
            "Epoch: 91 | Train loss: 0.5154 | Train acc: 0.8201 | Test loss: 0.5791 | Test acc: 0.8048\n",
            "Saving model...\n",
            "Epoch: 92 | Train loss: 0.5122 | Train acc: 0.8207 | Test loss: 0.6034 | Test acc: 0.8012\n",
            "Saving model...\n",
            "Epoch: 93 | Train loss: 0.5106 | Train acc: 0.8215 | Test loss: 1.0389 | Test acc: 0.6941\n",
            "Saving model...\n",
            "Epoch: 94 | Train loss: 0.5062 | Train acc: 0.8206 | Test loss: 0.5770 | Test acc: 0.8077\n",
            "Saving model...\n",
            "Epoch: 95 | Train loss: 0.5065 | Train acc: 0.8226 | Test loss: 1.5186 | Test acc: 0.6188\n",
            "Saving model...\n",
            "Epoch: 96 | Train loss: 0.5031 | Train acc: 0.8235 | Test loss: 0.5842 | Test acc: 0.8111\n",
            "Saving model...\n",
            "Epoch: 97 | Train loss: 0.5013 | Train acc: 0.8246 | Test loss: 0.6055 | Test acc: 0.7990\n",
            "Saving model...\n",
            "Epoch: 98 | Train loss: 0.5022 | Train acc: 0.8242 | Test loss: 0.7039 | Test acc: 0.7802\n",
            "Saving model...\n",
            "Epoch: 99 | Train loss: 0.5055 | Train acc: 0.8217 | Test loss: 0.5398 | Test acc: 0.8261\n",
            "Total training time: 9986.111 seconds\n"
          ]
        }
      ]
    },
    {
      "cell_type": "markdown",
      "metadata": {
        "id": "SWUeQlk_FzD-"
      },
      "source": [
        "**Memtorch**"
      ]
    },
    {
      "cell_type": "markdown",
      "source": [
        "Memtorch installation taking into account that skelearn is a deprecated name, now its name is scikit-learn. Also it is necessary to allow cuda functionality to work on cuda."
      ],
      "metadata": {
        "id": "6VJIJxY1ElAr"
      }
    },
    {
      "cell_type": "code",
      "execution_count": null,
      "metadata": {
        "colab": {
          "background_save": true
        },
        "id": "aRBCwdRWD3Cg"
      },
      "outputs": [],
      "source": [
        "!git clone --recursive https://github.com/coreylammie/MemTorch              #Accessing repository\n",
        "!sed -i 's/sklearn/scikit-learn/gi' MemTorch/requirements.txt               #sklearn changed name to scikit-learn\n",
        "!sed -i 's/sklearn/scikit-learn/gi' MemTorch/setup.py                       #Switch in requirements.txt and setup.py\n",
        "%cd MemTorch\n",
        "!sed -i 's/CUDA = False/CUDA = True/g' setup.py                             #Installation with CUDA functionality\n",
        "!pip install .\n",
        "%cd .."
      ]
    },
    {
      "cell_type": "markdown",
      "source": [
        "Memtorch is imported with the necesarry modules."
      ],
      "metadata": {
        "id": "Wc6b5WjQE_Ut"
      }
    },
    {
      "cell_type": "code",
      "execution_count": null,
      "metadata": {
        "id": "eiuNWjLQFz15"
      },
      "outputs": [],
      "source": [
        "import memtorch                                                             #Obtaining of Memtorch\n",
        "from memtorch.mn.Module import patch_model                                  #Memtorch module to patch model\n",
        "from memtorch.map.Input import naive_scale\n",
        "from memtorch.map.Parameter import naive_map"
      ]
    },
    {
      "cell_type": "markdown",
      "source": [
        "A memristor model is selected, in our case it is VTEAM, a voltage-controlled memristor. A time resolution is described in order to sset the rate of updates. We plot the hysteresis loop as well as the switching behaviour of the chosen memristor."
      ],
      "metadata": {
        "id": "NSiXH7_4FHgL"
      }
    },
    {
      "cell_type": "code",
      "source": [
        "reference_memristor = memtorch.bh.memristor.VTEAM                           #Selection of memristor\n",
        "reference_memristor_params = {'time_series_resolution': 1e-10}              #Parameter selection: time resolution for simulation\n",
        "memristor = reference_memristor(**reference_memristor_params)               #Define memristor with parameters\n",
        "memristor.plot_hysteresis_loop()                                            #Plotting of hysteresis loop\n",
        "memristor.plot_bipolar_switching_behaviour()                                #Plotting of switching behaviour"
      ],
      "metadata": {
        "colab": {
          "base_uri": "https://localhost:8080/",
          "height": 927
        },
        "outputId": "7fbb28af-1e96-480d-8ba0-5852c49e9ded",
        "id": "Xa-0ZwUCFz15"
      },
      "execution_count": null,
      "outputs": [
        {
          "output_type": "display_data",
          "data": {
            "text/plain": [
              "<Figure size 640x480 with 1 Axes>"
            ],
            "image/png": "[encoded data removed]"
          },
          "metadata": {}
        },
        {
          "output_type": "display_data",
          "data": {
            "text/plain": [
              "<Figure size 640x480 with 1 Axes>"
            ],
            "image/png": "[encoded data removed]"
          },
          "metadata": {}
        }
      ]
    },
    {
      "cell_type": "markdown",
      "source": [
        "We patch out current trained model (loading its state dictionary) to a memristive crossbar array, mapping weights into conductances."
      ],
      "metadata": {
        "id": "cam6aAdrF2Ts"
      }
    },
    {
      "cell_type": "code",
      "execution_count": null,
      "metadata": {
        "id": "6ac56ff4-9597-4565-8672-0cad80759bbc"
      },
      "outputs": [],
      "source": [
        "import copy                                                                     #Needed to copy model in order to patch it\n",
        "from memtorch.mn.Module import patch_model\n",
        "from memtorch.map.Input import naive_scale\n",
        "from memtorch.map.Parameter import naive_map\n",
        "\n",
        "\n",
        "model = RF(input_shape=1,                                                       #Model with shape\n",
        "           hidden_units=10,\n",
        "           output_shape=10).to(device)\n",
        "model.load_state_dict(torch.load('modelo_entrenado.pt'), strict=False)          #Load state dictionary with trained values\n",
        "patched_model = patch_model(copy.deepcopy(model),                               #Copy model to patch\n",
        "                          memristor_model=reference_memristor,                  #Select defined memristor\n",
        "                          memristor_model_params=reference_memristor_params,    #Select defined parameters for memristor\n",
        "                          module_parameters_to_patch=[torch.nn.Conv2d],         #Select type of layer to patch (only Conv2D in our CNNs)\n",
        "                          mapping_routine=naive_map,\n",
        "                          transistor=True,\n",
        "                          programming_routine=None,\n",
        "                          tile_shape=(128, 128),\n",
        "                          max_input_voltage=0.3,\n",
        "                          scaling_routine=naive_scale,\n",
        "                          ADC_resolution=8,\n",
        "                          ADC_overflow_rate=0.,\n",
        "                          quant_method='linear')\n",
        "patched_model.tune_()"
      ]
    },
    {
      "cell_type": "markdown",
      "source": [
        "We test our patched model model:"
      ],
      "metadata": {
        "id": "7MFUqErEGMOm"
      }
    },
    {
      "cell_type": "code",
      "execution_count": null,
      "metadata": {
        "id": "8f7c9287-af61-4c02-9c45-8bb1fa41208b"
      },
      "outputs": [],
      "source": [
        "test_step(model=patched_model,\n",
        "                dataloader=test_dataloader,\n",
        "                loss_fn=loss_fn,\n",
        "                device='cuda')"
      ]
    },
    {
      "cell_type": "markdown",
      "metadata": {
        "id": "8ubEO-q2Frlh"
      },
      "source": [
        "**Non-idealities**\n",
        "\n"
      ]
    },
    {
      "cell_type": "markdown",
      "metadata": {
        "id": "Gvi-x5EwGP2p"
      },
      "source": [
        "Device Faults:"
      ]
    },
    {
      "cell_type": "code",
      "execution_count": null,
      "metadata": {
        "id": "FhFDu9V-Fvw2"
      },
      "outputs": [],
      "source": [
        "from memtorch.bh.nonideality.NonIdeality import apply_nonidealities\n",
        "\n",
        "patched_model_1 = apply_nonidealities(copy.deepcopy(patched_model),\n",
        "                                     non_idealities=[memtorch.bh.nonideality.NonIdeality.DeviceFaults],\n",
        "                                     lrs_proportion=0.25,\n",
        "                                     hrs_proportion=0.10,\n",
        "                                     electroform_proportion=0)"
      ]
    },
    {
      "cell_type": "code",
      "execution_count": null,
      "metadata": {
        "id": "2xD4XtpLGDwJ"
      },
      "outputs": [],
      "source": [
        "test_step(model=patched_model_1,\n",
        "                dataloader=test_dataloader,\n",
        "                loss_fn=loss_fn,\n",
        "                device='cuda')"
      ]
    },
    {
      "cell_type": "markdown",
      "metadata": {
        "id": "sCVUw4UcGTv_"
      },
      "source": [
        "Endurance:"
      ]
    },
    {
      "cell_type": "code",
      "execution_count": null,
      "metadata": {
        "id": "EkQYPkuPGO3n"
      },
      "outputs": [],
      "source": [
        "from memtorch.bh.nonideality.NonIdeality import apply_nonidealities\n",
        "\n",
        "patched_model_2 = apply_nonidealities(copy.deepcopy(patched_model),\n",
        "                                  non_idealities=[memtorch.bh.nonideality.NonIdeality.Endurance],\n",
        "                                  x=1e4,\n",
        "                                  endurance_model=memtorch.bh.nonideality.endurance_retention_models.model_endurance_retention,\n",
        "                                  endurance_model_kwargs={\n",
        "                                        \"operation_mode\": memtorch.bh.nonideality.endurance_retention_models.OperationMode.sudden,\n",
        "                                        \"p_lrs\": [1, 0, 0, 0],\n",
        "                                        \"stable_resistance_lrs\": 100,\n",
        "                                        \"p_hrs\": [1, 0, 0, 0],\n",
        "                                        \"stable_resistance_hrs\": 1000,\n",
        "                                        \"cell_size\": 10,\n",
        "                                        \"temperature\": 350,\n",
        "                                  })"
      ]
    },
    {
      "cell_type": "code",
      "execution_count": null,
      "metadata": {
        "id": "uh4rR9RqGXx4"
      },
      "outputs": [],
      "source": [
        "test_step(model=patched_model_2,\n",
        "                dataloader=test_dataloader,\n",
        "                loss_fn=loss_fn,\n",
        "                device='cuda')"
      ]
    },
    {
      "cell_type": "markdown",
      "metadata": {
        "id": "iO3u1_6oGYg6"
      },
      "source": [
        "Retention:"
      ]
    },
    {
      "cell_type": "code",
      "execution_count": null,
      "metadata": {
        "id": "O92YRr7JGYRA"
      },
      "outputs": [],
      "source": [
        "from memtorch.bh.nonideality.NonIdeality import apply_nonidealities\n",
        "\n",
        "patched_model_3 = apply_nonidealities(copy.deepcopy(patched_model),\n",
        "                                  non_idealities=[memtorch.bh.nonideality.NonIdeality.Retention],\n",
        "                                  time=1e3,\n",
        "                                  retention_model=memtorch.bh.nonideality.endurance_retention_models.model_conductance_drift,\n",
        "                                  retention_model_kwargs={\n",
        "                                        \"initial_time\": 1,\n",
        "                                        \"drift_coefficient\": 0.1,\n",
        "                                  })"
      ]
    },
    {
      "cell_type": "code",
      "execution_count": null,
      "metadata": {
        "id": "GdccWFxTGgjB"
      },
      "outputs": [],
      "source": [
        "test_step(model=patched_model_3,\n",
        "                dataloader=test_dataloader,\n",
        "                loss_fn=loss_fn,\n",
        "                device='cuda')"
      ]
    },
    {
      "cell_type": "markdown",
      "metadata": {
        "id": "wlOtwaQJGmBt"
      },
      "source": [
        "Finite condution states:"
      ]
    },
    {
      "cell_type": "code",
      "execution_count": null,
      "metadata": {
        "id": "NsYujCIyGpp7"
      },
      "outputs": [],
      "source": [
        "from memtorch.bh.nonideality.NonIdeality import apply_nonidealities\n",
        "\n",
        "patched_model_4 = apply_nonidealities(copy.deepcopy(patched_model),\n",
        "                                  non_idealities=[memtorch.bh.nonideality.NonIdeality.FiniteConductanceStates],\n",
        "                                  conductance_states=5)"
      ]
    },
    {
      "cell_type": "code",
      "execution_count": null,
      "metadata": {
        "id": "aMUS1uXgGrck"
      },
      "outputs": [],
      "source": [
        "test_step(model=patched_model_4,\n",
        "                dataloader=test_dataloader,\n",
        "                loss_fn=loss_fn,\n",
        "                device='cuda')"
      ]
    },
    {
      "cell_type": "markdown",
      "metadata": {
        "id": "5KjcrQbiGr6Z"
      },
      "source": [
        "Nonlinear behaviour:"
      ]
    },
    {
      "cell_type": "code",
      "execution_count": null,
      "metadata": {
        "id": "L-W1LuahGwFu"
      },
      "outputs": [],
      "source": [
        "from memtorch.bh.nonideality.NonIdeality import apply_nonidealities\n",
        "\n",
        "patched_model_5 = apply_nonidealities(copy.deepcopy(patched_model),\n",
        "                                  non_idealities=[memtorch.bh.nonideality.NonIdeality.NonLinear],\n",
        "                                  simulate=True)"
      ]
    },
    {
      "cell_type": "code",
      "execution_count": null,
      "metadata": {
        "id": "xezY7wPTGwqI"
      },
      "outputs": [],
      "source": [
        "test_step(model=patched_model_5,\n",
        "                dataloader=test_dataloader,\n",
        "                loss_fn=loss_fn,\n",
        "                device='cuda')"
      ]
    },
    {
      "cell_type": "markdown",
      "metadata": {
        "id": "yNg0OqtBGYGU"
      },
      "source": [
        "Stochastic parameters:"
      ]
    },
    {
      "cell_type": "code",
      "execution_count": null,
      "metadata": {
        "id": "fvbuLuo4HH-9"
      },
      "outputs": [],
      "source": [
        "import memtorch\n",
        "\n",
        "reference_memristor = memtorch.bh.memristor.VTEAM\n",
        "reference_memristor_params = {'time_series_resolution': 1e-10,\n",
        "                              'r_off': memtorch.bh.StochasticParameter(loc=1000, scale=200, min=2),\n",
        "                              'r_on': memtorch.bh.StochasticParameter(loc=5000, scale=sigma, min=1)}\n",
        "\n",
        "memristor = reference_memristor(**reference_memristor_params)\n",
        "memristor.plot_hysteresis_loop()\n",
        "memristor.plot_bipolar_switching_behaviour()"
      ]
    },
    {
      "cell_type": "markdown",
      "metadata": {
        "id": "asxIJPZ_HUWy"
      },
      "source": [
        "Combination:"
      ]
    },
    {
      "cell_type": "code",
      "execution_count": null,
      "metadata": {
        "id": "v90xOTdfHXFQ"
      },
      "outputs": [],
      "source": [
        "patched_model_ = apply_nonidealities(copy.deepcopy(patched_model),\n",
        "                                     non_idealities=[memtorch.bh.nonideality.NonIdeality.DeviceFaults,\n",
        "                                                     memtorch.bh.nonideality.NonIdeality.Endurance,\n",
        "                                                     memtorch.bh.nonideality.NonIdeality.Retention,\n",
        "                                                     memtorch.bh.nonideality.NonIdeality.NonLinear,\n",
        "                                                     memtorch.bh.nonideality.NonIdeality.FiniteConductanceStates],\n",
        "                                     lrs_proportion=0.25,\n",
        "                                     hrs_proportion=0.10,\n",
        "                                     electroform_proportion=0,\n",
        "                                     x=1e4,\n",
        "                                     endurance_model=memtorch.bh.nonideality.endurance_retention_models.model_endurance_retention,\n",
        "                                     endurance_model_kwargs={\n",
        "                                        \"operation_mode\": memtorch.bh.nonideality.endurance_retention_models.OperationMode.sudden,\n",
        "                                        \"p_lrs\": [1, 0, 0, 0],\n",
        "                                        \"stable_resistance_lrs\": 100,\n",
        "                                        \"p_hrs\": [1, 0, 0, 0],\n",
        "                                        \"stable_resistance_hrs\": 1000,\n",
        "                                        \"cell_size\": 10,\n",
        "                                        \"temperature\": 350,\n",
        "                                     },\n",
        "                                     time=1e3,\n",
        "                                     retention_model=memtorch.bh.nonideality.endurance_retention_models.model_conductance_drift,\n",
        "                                     retention_model_kwargs={\n",
        "                                         \"initial_time\": 1,\n",
        "                                         \"drift_coefficient\": 0.1,\n",
        "                                     },\n",
        "                                     conductance_states=5,\n",
        "                                     simulate=True\n",
        "                                    )"
      ]
    },
    {
      "cell_type": "code",
      "execution_count": null,
      "metadata": {
        "id": "M-a6-84aIXY6"
      },
      "outputs": [],
      "source": [
        "test_step(model=patched_model_,\n",
        "                dataloader=test_dataloader,\n",
        "                loss_fn=loss_fn,\n",
        "                device='cuda')"
      ]
    }
  ]
}