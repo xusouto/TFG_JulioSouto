{
 "cells": [
  {
   "cell_type": "markdown",
   "id": "f1731bf9-4d3b-43c2-81ba-00fffbbaf757",
   "metadata": {},
   "source": [
    "Instalación WSL y Ubuntu 22.04 (en cmd):"
   ]
  },
  {
   "cell_type": "code",
   "execution_count": null,
   "id": "67cbf4ca-14e6-4600-b40e-3dd2660c66ef",
   "metadata": {},
   "outputs": [],
   "source": [
    "$wsl --install\n",
    "$wsl --install -d Ubuntu"
   ]
  },
  {
   "cell_type": "markdown",
   "id": "f7b5b6f3-f1bb-498a-8882-9fb83e8ab790",
   "metadata": {},
   "source": [
    "Instalación python 3 (en consola de Ubuntu a partir de aqui):"
   ]
  },
  {
   "cell_type": "code",
   "execution_count": null,
   "id": "c3761e67-25c7-4ad1-8060-ba3341ccf3b1",
   "metadata": {},
   "outputs": [],
   "source": [
    "$sudo apt update && upgrade\n",
    "$sudo apt install python3 python3-pip ipython3"
   ]
  },
  {
   "cell_type": "markdown",
   "id": "2ba8c3a6-03a3-4873-80bf-3c090f634fff",
   "metadata": {},
   "source": [
    "Instalación pytorch 2 (compatibilidad con cudatoolkit 12.1):"
   ]
  },
  {
   "cell_type": "code",
   "execution_count": null,
   "id": "ceb914ec-d954-4af5-b9fe-61763b131367",
   "metadata": {},
   "outputs": [],
   "source": [
    "$sudo apt update\n",
    "#entorno de python\n",
    "$sudo apt install python3-venv -y   \n",
    "$mkdir pytorch_env                                  #Nombre a nuestra elección\n",
    "$cd pytorch_env \n",
    "python3 -m venv pytorch_env\n",
    "source pytorch_env/bin/activate\n",
    "#instalación pytorch\n",
    "pip3 install torch torchvision torchaudio"
   ]
  },
  {
   "cell_type": "markdown",
   "id": "e5dbf0d2-137e-45e4-a03c-242105dedae0",
   "metadata": {},
   "source": [
    "Instalación cuda toolkit 12.1:"
   ]
  },
  {
   "cell_type": "code",
   "execution_count": null,
   "id": "8c0858d0-c740-437b-91a8-8a415c9bec45",
   "metadata": {},
   "outputs": [],
   "source": [
    "$wget https://developer.download.nvidia.com/compute/cuda/repos/wsl-ubuntu/x86_64/cuda-wsl-ubuntu.pin\n",
    "$sudo mv cuda-wsl-ubuntu.pin /etc/apt/preferences.d/cuda-repository-pin-600\n",
    "$wget https://developer.download.nvidia.com/compute/cuda/12.1.0/local_installers/cuda-repo-wsl-ubuntu-12-1-local_12.1.0-1_amd64.deb\n",
    "$sudo dpkg -i cuda-repo-wsl-ubuntu-12-1-local_12.1.0-1_amd64.deb\n",
    "$sudo cp /var/cuda-repo-wsl-ubuntu-12-1-local/cuda-*-keyring.gpg /usr/share/keyrings/\n",
    "$sudo apt-get update\n",
    "$sudo apt-get -y install cuda"
   ]
  },
  {
   "cell_type": "markdown",
   "id": "d35fe5e4-2e1c-4571-a779-1782d6d487b0",
   "metadata": {},
   "source": [
    "Instalación MemTorch:"
   ]
  },
  {
   "cell_type": "code",
   "execution_count": null,
   "id": "67d2b035-593d-43cf-8617-743ec1d77b70",
   "metadata": {},
   "outputs": [],
   "source": [
    "$git clone --recursive https://github.com/coreylammie/MemTorch\n",
    "$sed -i 's/sklearn/scikit-learn/gi' MemTorch/requirements.txt      #sklearn cambió de nombre a scikit-learn\n",
    "$sed -i 's/sklearn/scikit-learn/gi' MemTorch/setup.py              #Cambiar en requirements.txt y setup.py\n",
    "$cd MemTorch\n",
    "$sed -i 's/CUDA = False/CUDA = True/g' setup.py                    #Instalación con funcionalidad CUDA\n",
    "$pip install .\n",
    "$%cd .."
   ]
  },
  {
   "cell_type": "markdown",
   "id": "7226fedf-9db3-4b24-aa62-f119bbecc6cd",
   "metadata": {},
   "source": [
    "Instalación Jupyter Notebook:"
   ]
  },
  {
   "cell_type": "code",
   "execution_count": null,
   "id": "49702ce5-ba1e-4d68-8d0a-5c60e998f2c0",
   "metadata": {},
   "outputs": [],
   "source": [
    "$sudo apt-get update\n",
    "$sudo pip3 install jupyter\n",
    "$jupyter notebook               #Abrir en jupyter notebook en %cd pytorch_env  "
   ]
  }
 ],
 "metadata": {
  "kernelspec": {
   "display_name": "Python 3 (ipykernel)",
   "language": "python",
   "name": "python3"
  },
  "language_info": {
   "codemirror_mode": {
    "name": "ipython",
    "version": 3
   },
   "file_extension": ".py",
   "mimetype": "text/x-python",
   "name": "python",
   "nbconvert_exporter": "python",
   "pygments_lexer": "ipython3",
   "version": "3.10.12"
  }
 },
 "nbformat": 4,
 "nbformat_minor": 5
}
